{
  "cells": [
    {
      "cell_type": "code",
      "execution_count": 461,
      "metadata": {
        "collapsed": false
      },
      "outputs": [],
      "source": [
        "%matplotlib inline"
      ]
    },
    {
      "cell_type": "code",
      "execution_count": 462,
      "metadata": {},
      "outputs": [],
      "source": [
        "import cv2 as cv2\n",
        "import numpy as np\n",
        "import matplotlib.pyplot as plt\n",
        "from skimage import measure\n",
        "\n",
        "BLACK = (0, 0, 0)\n",
        "WHITE = (255, 255, 255)\n",
        "GREEN = (0, 255, 0)\n",
        "\n",
        "##\n",
        "b00 = 10, 15\n",
        "b01 = 60, 45\n",
        "##\n",
        "\n",
        "##\n",
        "p00 = 13, 19\n",
        "p01 = 75, 40\n",
        "##\n",
        "\n",
        "##\n",
        "b10 = 25, 80\n",
        "b11 = 50, 108\n",
        "##\n",
        "\n",
        "##\n",
        "p10 = 15, 83\n",
        "p11 = 53, 113\n",
        "##\n",
        "\n",
        "##\n",
        "b20 = 145, 45\n",
        "b22 = 168, 115\n",
        "##\n",
        "\n",
        "##\n",
        "p20 = 125, 70\n",
        "p22 = 150, 125\n",
        "##\n",
        "\n",
        "##\n",
        "b30 = 53, 153\n",
        "b33 = 160, 190\n",
        "##\n",
        "\n",
        "##\n",
        "p30 = 38, 160\n",
        "p33 = 160, 200\n",
        "##\n",
        "\n",
        "mask = mask = np.zeros((224, 224, 3), np.uint8)\n",
        "cv2.rectangle(mask, b00, b01, WHITE, cv2.FILLED)\n",
        "cv2.rectangle(mask, b10, b11, WHITE, cv2.FILLED)\n",
        "cv2.rectangle(mask, b20, b22, WHITE, cv2.FILLED)\n",
        "cv2.rectangle(mask, b30, b33, WHITE, cv2.FILLED)\n",
        "\n",
        "\n",
        "pred = pred = np.zeros((224, 224, 3), np.uint8)\n",
        "cv2.rectangle(pred, p00, p01, WHITE, cv2.FILLED)\n",
        "cv2.rectangle(pred, p10, p11, WHITE, cv2.FILLED)\n",
        "cv2.rectangle(pred, p20, p22, WHITE, cv2.FILLED)\n",
        "cv2.rectangle(pred, p30, p33, WHITE, cv2.FILLED)\n",
        "\n",
        "\n",
        "gray_mask = cv2.cvtColor(mask, cv2.COLOR_BGR2GRAY)\n",
        "gray_pred = cv2.cvtColor(pred, cv2.COLOR_BGR2GRAY)\n",
        "\n",
        "\n",
        "\n",
        "gray_mask[gray_mask == 255] = 1\n",
        "gray_pred[gray_pred == 255] = 1"
      ]
    },
    {
      "cell_type": "code",
      "execution_count": 463,
      "metadata": {},
      "outputs": [],
      "source": [
        "def compute_metrics(m, p, n_classes, thresh):\n",
        "        TP_r = np.zeros(n_classes)\n",
        "        FP_r = np.zeros(n_classes)\n",
        "        FN_r = np.zeros(n_classes)\n",
        "\n",
        "        for i in np.unique(m): #for each plant class do the same\n",
        "          if np.unique(m)[i] != 0:\n",
        "            p = (p == np.unique(m)[i]) # get predicted binary mask for the i-th class\n",
        "            m = (m == np.unique(m)[i]) # get binary ground truth for the i-th class\n",
        "            cc = measure.label(m) # measure and label all connected regions of m\n",
        "            for j in np.unique(cc):\n",
        "              c = (cc==j)\n",
        "              intersection = np.multiply(p, c)\n",
        "              print(sum(sum(intersection))/sum(sum(c)))\n",
        "              if sum(sum(intersection))/sum(sum(c)) > thresh  : # we suppose intersection & C are binary masks with Os and 1s . ( so that the sum represent number of píxels with value = 1)\n",
        "                print('passed')\n",
        "                TP_r[i] += 1\n",
        "              else:          \n",
        "                FN_r[i] += 1\n",
        "\n",
        "            b = np.subtract(p, (np.multiply(m, p)), dtype=np.int32) # get any pixels predicted as i , but not in the groundtruth\n",
        "            \n",
        "            ccb = measure.label(b) # get all connected regions of prediction for the i-th class.\n",
        "              \n",
        "            for k in np.unique(ccb):\n",
        "              c = (ccb == k)\n",
        "              if sum(sum(c)) >= 47629: # make sure that c is binary with values in { 0,1 } so that FP + = 1 . sum (c) is the number of píxels with value = 1 \n",
        "                FP_r[i] += 1\n",
        "\n",
        "        return TP_r, FP_r, FN_r"
      ]
    },
    {
      "cell_type": "code",
      "execution_count": 465,
      "metadata": {},
      "outputs": [
        {
          "data": {
            "image/png": "[encoded data removed]",
            "text/plain": [
              "<Figure size 648x252 with 3 Axes>"
            ]
          },
          "metadata": {
            "needs_background": "light"
          },
          "output_type": "display_data"
        },
        {
          "name": "stdout",
          "output_type": "stream",
          "text": [
            "0.08893012632931269\n",
            "0.6679316888045541\n",
            "0.1619718309859155\n",
            "0.896551724137931\n",
            "passed\n",
            "0.8157894736842105\n",
            "passed\n",
            "[0. 2.]\n",
            "[0. 0.]\n",
            "[0. 3.]\n"
          ]
        }
      ],
      "source": [
        "cc = measure.label(gray_mask)\n",
        "\n",
        "\n",
        "plt.figure(figsize=(9, 3.5))\n",
        "plt.subplot(131)\n",
        "plt.imshow(gray_mask, cmap='gray')\n",
        "plt.axis('off')\n",
        "plt.subplot(132)\n",
        "plt.imshow(gray_pred, cmap='gray')\n",
        "plt.axis('off')\n",
        "plt.subplot(133)\n",
        "plt.imshow(gray_pred != gray_mask)\n",
        "\n",
        "plt.tight_layout()\n",
        "plt.show()\n",
        "\n",
        "tp, fp, fn = compute_metrics(gray_mask, gray_pred, 2, 0.8)\n",
        "\n",
        "print(tp)\n",
        "print(fp)\n",
        "print(fn)"
      ]
    }
  ],
  "metadata": {
    "kernelspec": {
      "display_name": "Python 3 (ipykernel)",
      "language": "python",
      "name": "python3"
    },
    "language_info": {
      "codemirror_mode": {
        "name": "ipython",
        "version": 3
      },
      "file_extension": ".py",
      "mimetype": "text/x-python",
      "name": "python",
      "nbconvert_exporter": "python",
      "pygments_lexer": "ipython3",
      "version": "3.9.12"
    }
  },
  "nbformat": 4,
  "nbformat_minor": 0
}
